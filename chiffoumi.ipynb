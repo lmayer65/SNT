{
 "cells": [
  {
   "cell_type": "markdown",
   "id": "90feb9a6",
   "metadata": {},
   "source": [
    "# <u>Création d'un chifoumi en langage Python</u>"
   ]
  },
  {
   "cell_type": "markdown",
   "id": "688f225a",
   "metadata": {},
   "source": [
    "Voici le squelette du programme simulant une partie du <b>chifoumi</b> face à l'ordinateur"
   ]
  },
  {
   "cell_type": "markdown",
   "id": "87599878",
   "metadata": {},
   "source": [
    "1/ <b>-Oral-</b> Description du programme par le professeur. Please be on !"
   ]
  },
  {
   "cell_type": "markdown",
   "id": "e247a4b2",
   "metadata": {},
   "source": [
    "2/ <b>Compléter</b> l'instruction conditionnelle manquante à l'endroit dédié. \n",
    "\n",
    "### <b><u>Appel au professeur pour vérification</u></b>"
   ]
  },
  {
   "cell_type": "markdown",
   "id": "1db9476b",
   "metadata": {},
   "source": [
    "3/ <b>Exécuter</b> alors le programme avec pour choix pour le joueur de l'objet \"ciseaux\". Que se passe-t-il ?\n",
    "<b>Compléter</b> les instructions manquantes du programme.\n",
    "\n",
    "### <b><u>Appel au professeur pour vérification</u></b>"
   ]
  },
  {
   "cell_type": "code",
   "execution_count": null,
   "id": "eb1a699d",
   "metadata": {},
   "outputs": [],
   "source": [
    "# Permet de choisir un élément dans un tableau au hasard\n",
    "from random import choice\n",
    "\n",
    "# Demande le prénom du joueur\n",
    "name = input('Entrez votre prénom (ou boulet) : ')\n",
    "\n",
    "# Demande le choix du joueur\n",
    "player = input('Entrez votre choix : pierre, ciseaux, feuille : ')\n",
    "\n",
    "\n",
    "# Affiche le choix du joueur ... s'il est correct\n",
    "if player == 'pierre':\n",
    "    print('pierre', end=' ')\n",
    "\n",
    "elif player == 'ciseaux':\n",
    "    print('ciseaux', end=' ')\n",
    "\n",
    "#################################################################################################\n",
    "###################### COMPLETER ICI POUR LA QUESTION 2 #########################################\n",
    "#################################################################################################\n",
    "\n",
    "\n",
    "#################################################################################################\n",
    "\n",
    "\n",
    "# Si le joueur n'a pas entré un objet valide, on quitte le jeu\n",
    "else :\n",
    "    assert player in [\"pierre\",\"ciseaux\",\"feuille\"], \"Erreur : Choix du joueur non approprié\"\n",
    "\n",
    "\n",
    "# Affiche \"contre\"\n",
    "print('contre', end=' ')\n",
    "\n",
    "\n",
    "# Choix -aléatoire- de l'ordinateur\n",
    "computer = choice([\"pierre\",\"ciseaux\",\"feuille\"])\n",
    "\n",
    "# Affiche le choix de l'ordinateur\n",
    "print(computer)\n",
    "\n",
    "\n",
    "# En cas d'égalité joueur / ordinateur\n",
    "if player == computer :\n",
    "    print('Egalité!')\n",
    "    \n",
    "# Différentes configurations\n",
    "elif player == 'pierre' and computer == 'ciseaux':\n",
    "    print(name, \"gagne\")\n",
    "\n",
    "elif player == 'pierre' and computer == 'feuille':\n",
    "    print(\"L'ordinateur gagne\")\n",
    "\n",
    "#################################################################################################\n",
    "###################### COMPLETER ICI POUR LA QUESTION 3 #########################################\n",
    "#################################################################################################\n",
    "\n",
    "\n",
    "#################################################################################################\n",
    "\n",
    "# Cette condition ne devrait être jamais exécutée si tous les cas ont été considérés\n",
    "else:\n",
    "    print(\"Toutes les configurations n'ont pas été envisagées, programme incomplet (tu es DONC un boulet)...\")"
   ]
  },
  {
   "cell_type": "markdown",
   "id": "2ea5c7de",
   "metadata": {},
   "source": [
    "4/ (*) <b>Modifier</b> le programme pour que le joueur gagne à tous les coups :)\n",
    "\n",
    "### <b><u>Appel au professeur pour vérification</u></b>"
   ]
  }
 ],
 "metadata": {
  "kernelspec": {
   "display_name": "Python 3 (ipykernel)",
   "language": "python",
   "name": "python3"
  },
  "language_info": {
   "codemirror_mode": {
    "name": "ipython",
    "version": 3
   },
   "file_extension": ".py",
   "mimetype": "text/x-python",
   "name": "python",
   "nbconvert_exporter": "python",
   "pygments_lexer": "ipython3",
   "version": "3.9.7"
  }
 },
 "nbformat": 4,
 "nbformat_minor": 5
}
