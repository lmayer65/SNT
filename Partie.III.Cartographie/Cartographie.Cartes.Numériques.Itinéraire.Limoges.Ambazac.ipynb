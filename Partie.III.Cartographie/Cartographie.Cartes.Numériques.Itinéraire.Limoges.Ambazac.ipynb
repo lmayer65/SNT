{
 "cells": [
  {
   "cell_type": "code",
   "execution_count": null,
   "metadata": {},
   "outputs": [],
   "source": [
    "!pip install folium\n",
    "!pip install pyroutelib3"
   ]
  },
  {
   "cell_type": "code",
   "execution_count": null,
   "metadata": {},
   "outputs": [],
   "source": [
    "\"\"\" Ce site trouve le chemin le plus court entre deux endroits \"\"\"\n",
    "\n",
    "# Site pour les coordonnées décimales  https://www.coordonnees-gps.fr/\n",
    "# Moyen de transport : car foot cycle \n",
    "# https://pypi.org/project/pyroutelib3/\n",
    "# Rester dans un département ! memoryflood sinon\n",
    "\n",
    "import folium\n",
    "from pyroutelib3 import Router\n",
    "\n",
    "router = Router(\"car\")\n",
    "depart = router.findNode(45.835424, 1.264485)        # Coordonnées de Limoges\n",
    "arrivee = router.findNode(45.958226,1.401928)        # Coordonnées d'Ambazac\n",
    "status, route = router.doRoute(depart, arrivee)\n",
    "\n",
    "if status == \"success\":\n",
    "    routeLatLons = list(map(router.nodeLatLon, route))\n",
    "\n",
    "# Coordonnées de la ville de départ (ici Limoges)\n",
    "c= folium.Map(location=[45.835424, 1.264485],zoom_start=10) \n",
    "\n",
    "# Le chemin à suivre est marqué par des petits cercles noirs\n",
    "for coord in routeLatLons:\n",
    "    coord=list(coord)\n",
    "    folium.CircleMarker(coord,radius=1).add_to(c) \n",
    "\n",
    "c.save(\"Cartographie.MonItinéraire.html\")\n",
    "print(\"Le fichier Cartographie.MonItinéraire.html a été créé dans l'onglet 'Home Page' de Jupyter\")"
   ]
  }
 ],
 "metadata": {
  "kernelspec": {
   "display_name": "Python 3",
   "language": "python",
   "name": "python3"
  },
  "language_info": {
   "codemirror_mode": {
    "name": "ipython",
    "version": 3
   },
   "file_extension": ".py",
   "mimetype": "text/x-python",
   "name": "python",
   "nbconvert_exporter": "python",
   "pygments_lexer": "ipython3",
   "version": "3.7.7"
  }
 },
 "nbformat": 4,
 "nbformat_minor": 4
}
